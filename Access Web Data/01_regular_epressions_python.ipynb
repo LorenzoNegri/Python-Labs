{
 "cells": [
  {
   "cell_type": "markdown",
   "metadata": {},
   "source": [
    "# Regular Expressions"
   ]
  },
  {
   "cell_type": "markdown",
   "metadata": {},
   "source": [
    "A regular expression (or RE) specifies a set of strings that matches it; the functions in this module let you check if a particular string matches a given regular expression (or if a given regular expression matches a particular string, which comes down to the same thing). "
   ]
  },
  {
   "cell_type": "markdown",
   "metadata": {},
   "source": [
    "<P>\n",
    "The special characters are:\n",
    "<DL>\n",
    "<DT><STRONG>\"<tt class=\"character\">.</tt>\"</STRONG></DT>\n",
    "<DD>(Dot.)  In the default mode, this matches any\n",
    "character except a newline.  If the <tt class=\"constant\">DOTALL</tt> flag has been\n",
    "specified, this matches any character including a newline.\n",
    "\n",
    "<P>\n",
    "</DD>\n",
    "<DT><STRONG>\"<tt class=\"character\">^</tt>\"</STRONG></DT>\n",
    "<DD>(Caret.)  Matches the start of the\n",
    "string, and in <tt class=\"constant\">MULTILINE</tt> mode also matches immediately\n",
    "after each newline.\n",
    "\n",
    "<P>\n",
    "</DD>\n",
    "<DT><STRONG>\"<tt class=\"character\">\\$</tt>\"</STRONG></DT>\n",
    "<DD>Matches the end of the string or just before the\n",
    "newline at the end of the string, and in <tt class=\"constant\">MULTILINE</tt> mode\n",
    "also matches before a newline.  <tt class=\"regexp\">foo</tt> matches both 'foo' and\n",
    "'foobar', while the regular expression <tt class=\"regexp\">foo$</tt> matches only\n",
    "'foo'.  More interestingly, searching for <tt class=\"regexp\">foo.\\$</tt> in\n",
    "'foo1&#92;nfoo2&#92;n' matches 'foo2' normally,\n",
    "but 'foo1' in <tt class=\"constant\">MULTILINE</tt> mode.\n",
    "\n",
    "<P>\n",
    "</DD>\n",
    "<DT><STRONG>\"<tt class=\"character\">*</tt>\"</STRONG></DT>\n",
    "<DD>Causes the resulting RE to\n",
    "match 0 or more repetitions of the preceding RE, as many repetitions\n",
    "as are possible.  <tt class=\"regexp\">ab*</tt> will\n",
    "match 'a', 'ab', or 'a' followed by any number of 'b's.\n",
    "\n",
    "<P>\n",
    "</DD>\n",
    "<DT><STRONG>\"<tt class=\"character\">+</tt>\"</STRONG></DT>\n",
    "<DD>Causes the\n",
    "resulting RE to match 1 or more repetitions of the preceding RE.\n",
    "<tt class=\"regexp\">ab+</tt> will match 'a' followed by any non-zero number of 'b's; it\n",
    "will not match just 'a'.\n",
    "\n",
    "<P>\n",
    "</DD>\n",
    "<DT><STRONG>\"<tt class=\"character\">?</tt>\"</STRONG></DT>\n",
    "<DD>Causes the resulting RE to\n",
    "match 0 or 1 repetitions of the preceding RE.  <tt class=\"regexp\">ab?</tt> will\n",
    "match either 'a' or 'ab'.\n",
    "\n",
    "<P>\n",
    "</DD>\n",
    "<DT><STRONG><code>*?</code>, <code>+?</code>, <code>??</code></STRONG></DT>\n",
    "<DD>The \"<tt class=\"character\">*</tt>\",\n",
    "\"<tt class=\"character\">+</tt>\", and \"<tt class=\"character\">?</tt>\" qualifiers are all <i class=\"dfn\">greedy</i>; they\n",
    "match as much text as possible.  Sometimes this behaviour isn't\n",
    "desired; if the RE <tt class=\"regexp\">&lt;.*&gt;</tt> is matched against\n",
    "<code>'&lt;H1&gt;title&lt;/H1&gt;'</code>, it will match the entire string, and not just\n",
    "<code>'&lt;H1&gt;'</code>.  Adding \"<tt class=\"character\">?</tt>\" after the qualifier makes it\n",
    "perform the match in <i class=\"dfn\">non-greedy</i> or <i class=\"dfn\">minimal</i> fashion; as\n",
    "<em>few</em> characters as possible will be matched.  Using <tt class=\"regexp\">.*?</tt>\n",
    "in the previous expression will match only <code>'&lt;H1&gt;'</code>.\n",
    "\n",
    "<P>\n",
    "</DD>\n",
    "<DT><STRONG><code>{<var>m</var>}</code></STRONG></DT>\n",
    "<DD>Specifies that exactly <var>m</var> copies of the previous RE should be\n",
    "matched; fewer matches cause the entire RE not to match.  For example,\n",
    "<tt class=\"regexp\">a{6}</tt> will match exactly six \"<tt class=\"character\">a</tt>\" characters, but\n",
    "not five.\n",
    "\n",
    "<P>\n",
    "</DD>\n",
    "<DT><STRONG><code>{<var>m</var>,<var>n</var>}</code></STRONG></DT>\n",
    "<DD>Causes the resulting RE to match from\n",
    "<var>m</var> to <var>n</var> repetitions of the preceding RE, attempting to\n",
    "match as many repetitions as possible.  For example, <tt class=\"regexp\">a{3,5}</tt>\n",
    "will match from 3 to 5 \"<tt class=\"character\">a</tt>\" characters.  Omitting <var>m</var>\n",
    "specifies a lower bound of zero, \n",
    "and omitting <var>n</var> specifies an infinite upper bound.  As an\n",
    "example, <tt class=\"regexp\">a{4,}b</tt> will match <code>aaaab</code> or a thousand\n",
    "\"<tt class=\"character\">a</tt>\" characters followed by a <code>b</code>, but not <code>aaab</code>.\n",
    "The comma may not be omitted or the modifier would be confused with\n",
    "the previously described form.\n",
    "\n",
    "<P>\n",
    "</DD>\n",
    "<DT><STRONG><code>{<var>m</var>,<var>n</var>}?</code></STRONG></DT>\n",
    "<DD>Causes the resulting RE to\n",
    "match from <var>m</var> to <var>n</var> repetitions of the preceding RE,\n",
    "attempting to match as <em>few</em> repetitions as possible.  This is\n",
    "the non-greedy version of the previous qualifier.  For example, on the\n",
    "6-character string <code>'aaaaaa'</code>, <tt class=\"regexp\">a{3,5}</tt> will match 5\n",
    "\"<tt class=\"character\">a</tt>\" characters, while <tt class=\"regexp\">a{3,5}?</tt> will only match 3\n",
    "characters.\n",
    "\n",
    "<P>\n",
    "</DD>\n",
    "<DT><STRONG>\"<tt class=\"character\">&#92;</tt>\"</STRONG></DT>\n",
    "<DD>Either escapes special characters (permitting\n",
    "you to match characters like \"<tt class=\"character\">*</tt>\", \"<tt class=\"character\">?</tt>\", and so\n",
    "forth), or signals a special sequence; special sequences are discussed\n",
    "below.\n",
    "\n",
    "<P>\n",
    "If you're not using a raw string to\n",
    "express the pattern, remember that Python also uses the\n",
    "backslash as an escape sequence in string literals; if the escape\n",
    "sequence isn't recognized by Python's parser, the backslash and\n",
    "subsequent character are included in the resulting string.  However,\n",
    "if Python would recognize the resulting sequence, the backslash should\n",
    "be repeated twice.  This is complicated and hard to understand, so\n",
    "it's highly recommended that you use raw strings for all but the\n",
    "simplest expressions.\n",
    "\n",
    "<P>\n",
    "</DD>\n",
    "<DT><STRONG><code>[]</code></STRONG></DT>\n",
    "<DD>Used to indicate a set of characters.  Characters can\n",
    "be listed individually, or a range of characters can be indicated by\n",
    "giving two characters and separating them by a \"<tt class=\"character\">-</tt>\".  Special\n",
    "characters are not active inside sets.  For example, <tt class=\"regexp\">[akm$]</tt>\n",
    "will match any of the characters \"<tt class=\"character\">a</tt>\", \"<tt class=\"character\">k</tt>\",\n",
    "\"<tt class=\"character\">m</tt>\", or \"<tt class=\"character\">$</tt>\"; <tt class=\"regexp\">[a-z]</tt>\n",
    "will match any lowercase letter, and <code>[a-zA-Z0-9]</code> matches any\n",
    "letter or digit.  Character classes such as <code>&#92;w</code> or <code>&#92;S</code>\n",
    "(defined below) are also acceptable inside a range.  If you want to\n",
    "include a \"<tt class=\"character\">]</tt>\" or a \"<tt class=\"character\">-</tt>\" inside a set, precede it with a\n",
    "backslash, or place it as the first character.  The\n",
    "pattern <tt class=\"regexp\">[]]</tt> will match <code>']'</code>, for example.\n",
    "\n",
    "<P>\n",
    "You can match the characters not within a range by <i class=\"dfn\">complementing</i>\n",
    "the set.  This is indicated by including a\n",
    "\"<tt class=\"character\">^</tt>\" as the first character of the set;\n",
    "\"<tt class=\"character\">^</tt>\" elsewhere will simply match the\n",
    "\"<tt class=\"character\">^</tt>\" character.  For example,\n",
    "<tt class=\"regexp\">[^5]</tt> will match\n",
    "any character except \"<tt class=\"character\">5</tt>\", and\n",
    "<tt class=\"regexp\">[^<code>^</code>]</tt> will match any character\n",
    "except \"<tt class=\"character\">^</tt>\".\n",
    "\n",
    "<P>\n",
    "</DD>\n",
    "<DT><STRONG>\"<tt class=\"character\">|</tt>\"</STRONG></DT>\n",
    "<DD><code>A|B</code>, where A and B can be arbitrary REs,\n",
    "creates a regular expression that will match either A or B.  An\n",
    "arbitrary number of REs can be separated by the \"<tt class=\"character\">|</tt>\" in this\n",
    "way.  This can be used inside groups (see below) as well.  As the target\n",
    "string is scanned, REs separated by \"<tt class=\"character\">|</tt>\" are tried from left to\n",
    "right. When one pattern completely matches, that branch is accepted.\n",
    "This means that once <code>A</code> matches, <code>B</code> will not be tested further,\n",
    "even if it would produce a longer overall match.  In other words, the\n",
    "\"<tt class=\"character\">|</tt>\" operator is never greedy.  To match a literal \"<tt class=\"character\">|</tt>\",\n",
    "use <tt class=\"regexp\">&#92;|</tt>, or enclose it inside a character class, as in <tt class=\"regexp\">[|]</tt>.\n",
    "\n",
    "<P>\n",
    "</DD>\n",
    "<DT><STRONG><code>(...)</code></STRONG></DT>\n",
    "<DD>Matches whatever regular expression is inside the\n",
    "parentheses, and indicates the start and end of a group; the contents\n",
    "of a group can be retrieved after a match has been performed, and can\n",
    "be matched later in the string with the <tt class=\"regexp\">&#92;<var>number</var></tt> special\n",
    "sequence, described below.  To match the literals \"<tt class=\"character\">(</tt>\" or\n",
    "\"<tt class=\"character\">)</tt>\", use <tt class=\"regexp\">&#92;(</tt> or <tt class=\"regexp\">&#92;)</tt>, or enclose them\n",
    "inside a character class: <tt class=\"regexp\">[(] [)]</tt>.\n",
    "\n",
    "<P>\n",
    "</DD>\n",
    "<DT><STRONG><code>(?...)</code></STRONG></DT>\n",
    "<DD>This is an extension notation (a \"<tt class=\"character\">?</tt>\"\n",
    "following a \"<tt class=\"character\">(</tt>\" is not meaningful otherwise).  The first\n",
    "character after the \"<tt class=\"character\">?</tt>\"\n",
    "determines what the meaning and further syntax of the construct is.\n",
    "Extensions usually do not create a new group;\n",
    "<tt class=\"regexp\">(?P&lt;<var>name</var>&gt;...)</tt> is the only exception to this rule.\n",
    "Following are the currently supported extensions.\n",
    "\n",
    "<P>\n",
    "</DD>\n",
    "<DT><STRONG><code>(?iLmsux)</code></STRONG></DT>\n",
    "<DD>(One or more letters from the set \"<tt class=\"character\">i</tt>\",\n",
    "\"<tt class=\"character\">L</tt>\", \"<tt class=\"character\">m</tt>\", \"<tt class=\"character\">s</tt>\", \"<tt class=\"character\">u</tt>\",\n",
    "\"<tt class=\"character\">x</tt>\".)  The group matches the empty string; the letters set\n",
    "the corresponding flags (<tt class=\"constant\">re.I</tt>, <tt class=\"constant\">re.L</tt>,\n",
    "<tt class=\"constant\">re.M</tt>, <tt class=\"constant\">re.S</tt>, <tt class=\"constant\">re.U</tt>, <tt class=\"constant\">re.X</tt>)\n",
    "for the entire regular expression.  This is useful if you wish to\n",
    "include the flags as part of the regular expression, instead of\n",
    "passing a <var>flag</var> argument to the <tt class=\"function\">compile()</tt> function.\n",
    "\n",
    "<P>\n",
    "Note that the <tt class=\"regexp\">(?x)</tt> flag changes how the expression is parsed.\n",
    "It should be used first in the expression string, or after one or more\n",
    "whitespace characters.  If there are non-whitespace characters before\n",
    "the flag, the results are undefined.\n",
    "\n",
    "<P>\n",
    "</DD>\n",
    "<DT><STRONG><code>(?:...)</code></STRONG></DT>\n",
    "<DD>A non-grouping version of regular parentheses.\n",
    "Matches whatever regular expression is inside the parentheses, but the\n",
    "substring matched by the\n",
    "group <em>cannot</em> be retrieved after performing a match or\n",
    "referenced later in the pattern.\n",
    "\n",
    "<P>\n",
    "</DD>\n",
    "<DT><STRONG><code>(?P&lt;<var>name</var>&gt;...)</code></STRONG></DT>\n",
    "<DD>Similar to regular parentheses, but\n",
    "the substring matched by the group is accessible via the symbolic group\n",
    "name <var>name</var>.  Group names must be valid Python identifiers, and\n",
    "each group name must be defined only once within a regular expression.  A\n",
    "symbolic group is also a numbered group, just as if the group were not\n",
    "named.  So the group named 'id' in the example above can also be\n",
    "referenced as the numbered group 1.\n",
    "\n",
    "<P>\n",
    "For example, if the pattern is\n",
    "<tt class=\"regexp\">(?P&lt;id&gt;[a-zA-Z_]&#92;w*)</tt>, the group can be referenced by its\n",
    "name in arguments to methods of match objects, such as\n",
    "<code>m.group('id')</code> or <code>m.end('id')</code>, and also by name in\n",
    "pattern text (for example, <tt class=\"regexp\">(?P=id)</tt>) and replacement text\n",
    "(such as <code>&#92;g&lt;id&gt;</code>).\n",
    "\n",
    "<P>\n",
    "</DD>\n",
    "<DT><STRONG><code>(?P=<var>name</var>)</code></STRONG></DT>\n",
    "<DD>Matches whatever text was matched by the\n",
    "earlier group named <var>name</var>.\n",
    "\n",
    "<P>\n",
    "</DD>\n",
    "<DT><STRONG><code>(?#...)</code></STRONG></DT>\n",
    "<DD>A comment; the contents of the parentheses are\n",
    "simply ignored.\n",
    "\n",
    "<P>\n",
    "</DD>\n",
    "<DT><STRONG><code>(?=...)</code></STRONG></DT>\n",
    "<DD>Matches if <tt class=\"regexp\">...</tt> matches next, but doesn't\n",
    "consume any of the string.  This is called a lookahead assertion.  For\n",
    "example, <tt class=\"regexp\">Isaac (?=Asimov)</tt> will match <code>'Isaac&nbsp;'</code> only if it's\n",
    "followed by <code>'Asimov'</code>.\n",
    "\n",
    "<P>\n",
    "</DD>\n",
    "<DT><STRONG><code>(?!...)</code></STRONG></DT>\n",
    "<DD>Matches if <tt class=\"regexp\">...</tt> doesn't match next.  This\n",
    "is a negative lookahead assertion.  For example,\n",
    "<tt class=\"regexp\">Isaac (?!Asimov)</tt> will match <code>'Isaac&nbsp;'</code> only if it's <em>not</em>\n",
    "followed by <code>'Asimov'</code>.\n",
    "\n",
    "<P>\n",
    "</DD>\n",
    "<DT><STRONG><code>(?&lt;=...)</code></STRONG></DT>\n",
    "<DD>Matches if the current position in the string\n",
    "is preceded by a match for <tt class=\"regexp\">...</tt> that ends at the current\n",
    "position.  This is called a <i class=\"dfn\">positive lookbehind assertion</i>.\n",
    "<tt class=\"regexp\">(?&lt;=abc)def</tt> will find a match in \"<tt class=\"samp\">abcdef</tt>\", since the\n",
    "lookbehind will back up 3 characters and check if the contained\n",
    "pattern matches.  The contained pattern must only match strings of\n",
    "some fixed length, meaning that <tt class=\"regexp\">abc</tt> or <tt class=\"regexp\">a|b</tt> are\n",
    "allowed, but <tt class=\"regexp\">a*</tt> and <tt class=\"regexp\">a{3,4}</tt> are not.  Note that\n",
    "patterns which start with positive lookbehind assertions will never\n",
    "match at the beginning of the string being searched; you will most\n",
    "likely want to use the <tt class=\"function\">search()</tt> function rather than the\n",
    "<tt class=\"function\">match()</tt> function:\n",
    "\n",
    "<P>\n",
    "<div class=\"verbatim\"><pre>\n",
    "&gt;&gt;&gt; import re\n",
    "&gt;&gt;&gt; m = re.search('(?&lt;=abc)def', 'abcdef')\n",
    "&gt;&gt;&gt; m.group(0)\n",
    "'def'\n",
    "</pre></div>\n",
    "\n",
    "<P>\n",
    "This example looks for a word following a hyphen:\n",
    "\n",
    "<P>\n",
    "<div class=\"verbatim\"><pre>\n",
    "&gt;&gt;&gt; m = re.search('(?&lt;=-)\\w+', 'spam-egg')\n",
    "&gt;&gt;&gt; m.group(0)\n",
    "'egg'\n",
    "</pre></div>\n",
    "\n",
    "<P>\n",
    "</DD>\n",
    "<DT><STRONG><code>(?&lt;!...)</code></STRONG></DT>\n",
    "<DD>Matches if the current position in the string\n",
    "is not preceded by a match for <tt class=\"regexp\">...</tt>.  This is called a\n",
    "<i class=\"dfn\">negative lookbehind assertion</i>.  Similar to positive lookbehind\n",
    "assertions, the contained pattern must only match strings of some\n",
    "fixed length.  Patterns which start with negative lookbehind\n",
    "assertions may match at the beginning of the string being searched.\n",
    "\n",
    "<P>\n",
    "</DD>\n",
    "<DT><STRONG><code>(?(<var>id/name</var>)yes-pattern|no-pattern)</code></STRONG></DT>\n",
    "<DD>Will try to match\n",
    "with <tt class=\"regexp\">yes-pattern</tt> if the group with given <var>id</var> or <var>name</var>\n",
    "exists, and with <tt class=\"regexp\">no-pattern</tt> if it doesn't. <tt class=\"regexp\">|no-pattern</tt>\n",
    "is optional and can be omitted. For example, \n",
    "<tt class=\"regexp\">(&lt;)?(&#92;w+@&#92;w+(?:&#92;.&#92;w+)+)(?(1)&gt;)</tt> is a poor email matching\n",
    "pattern, which will match with <code>'&lt;user@host.com&gt;'</code> as well as\n",
    "<code>'user@host.com'</code>, but not with <code>'&lt;user@host.com'</code>.\n",
    "\n",
    "<span class=\"versionnote\">New in version 2.4.</span>\n",
    "\n",
    "<P>\n",
    "</DD>\n",
    "</DL>\n",
    "\n",
    "<P>\n",
    "The special sequences consist of \"<tt class=\"character\">&#92;</tt>\" and a character from the\n",
    "list below.  If the ordinary character is not on the list, then the\n",
    "resulting RE will match the second character.  For example,\n",
    "<tt class=\"regexp\">&#92;$</tt> matches the character \"<tt class=\"character\">$</tt>\".\n",
    "<DL>\n",
    "<DT><STRONG><code>&#92;<var>number</var></code></STRONG></DT>\n",
    "<DD>Matches the contents of the group of the\n",
    "same number.  Groups are numbered starting from 1.  For example,\n",
    "<tt class=\"regexp\">(.+) &#92;1</tt> matches <code>'the the'</code> or <code>'55 55'</code>, but not\n",
    "<code>'the end'</code> (note\n",
    "the space after the group).  This special sequence can only be used to\n",
    "match one of the first 99 groups.  If the first digit of <var>number</var>\n",
    "is 0, or <var>number</var> is 3 octal digits long, it will not be interpreted\n",
    "as a group match, but as the character with octal value <var>number</var>.\n",
    "Inside the \"<tt class=\"character\">[</tt>\" and \"<tt class=\"character\">]</tt>\" of a character class, all numeric\n",
    "escapes are treated as characters.\n",
    "\n",
    "<P>\n",
    "</DD>\n",
    "<DT><STRONG><code>&#92;A</code></STRONG></DT>\n",
    "<DD>Matches only at the start of the string.\n",
    "\n",
    "<P>\n",
    "</DD>\n",
    "<DT><STRONG><code>&#92;b</code></STRONG></DT>\n",
    "<DD>Matches the empty string, but only at the\n",
    "beginning or end of a word.  A word is defined as a sequence of\n",
    "alphanumeric or underscore characters, so the end of a word is indicated by\n",
    "whitespace or a non-alphanumeric, non-underscore character.  Note that \n",
    "<code>&#92;b</code> is defined as the boundary between <code>&#92;w</code> and <code>&#92;\n",
    "W</code>, so the precise set of characters deemed to be alphanumeric depends on the\n",
    "values of the <code>UNICODE</code> and <code>LOCALE</code> flags.  Inside a character\n",
    "range, <tt class=\"regexp\">&#92;b</tt> represents the backspace character, for compatibility\n",
    "with Python's string literals.\n",
    "\n",
    "<P>\n",
    "</DD>\n",
    "<DT><STRONG><code>&#92;B</code></STRONG></DT>\n",
    "<DD>Matches the empty string, but only when it is <em>not</em>\n",
    "at the beginning or end of a word.  This is just the opposite of <code>&#92;\n",
    "b</code>, so is also subject to the settings of <code>LOCALE</code> and <code>UNICODE</code>.\n",
    "\n",
    "<P>\n",
    "</DD>\n",
    "<DT><STRONG><code>&#92;d</code></STRONG></DT>\n",
    "<DD>When the <tt class=\"constant\">UNICODE</tt> flag is not specified, matches\n",
    "any decimal digit; this is equivalent to the set <tt class=\"regexp\">[0-9]</tt>. \n",
    "With <tt class=\"constant\">UNICODE</tt>, it will match whatever is classified as a digit\n",
    "in the Unicode character properties database.\n",
    "\n",
    "<P>\n",
    "</DD>\n",
    "<DT><STRONG><code>&#92;D</code></STRONG></DT>\n",
    "<DD>When the <tt class=\"constant\">UNICODE</tt> flag is not specified, matches\n",
    "any non-digit character; this is equivalent to the set \n",
    "<tt class=\"regexp\">[^0-9]</tt>.  With <tt class=\"constant\">UNICODE</tt>, it will match \n",
    "anything other than character marked as digits in the Unicode character \n",
    "properties database.\n",
    "\n",
    "<P>\n",
    "</DD>\n",
    "<DT><STRONG><code>&#92;s</code></STRONG></DT>\n",
    "<DD>When the <tt class=\"constant\">LOCALE</tt> and <tt class=\"constant\">UNICODE</tt>\n",
    "flags are not specified, matches any whitespace character; this is\n",
    "equivalent to the set <tt class=\"regexp\">[ &#92;t&#92;n&#92;r&#92;f&#92;v]</tt>.\n",
    "With <tt class=\"constant\">LOCALE</tt>, it will match this set plus whatever characters\n",
    "are defined as space for the current locale. If <tt class=\"constant\">UNICODE</tt> is set,\n",
    "this will match the characters <tt class=\"regexp\">[ &#92;t&#92;n&#92;r&#92;f&#92;v]</tt> plus\n",
    "whatever is classified as space in the Unicode character properties\n",
    "database.\n",
    "\n",
    "<P>\n",
    "</DD>\n",
    "<DT><STRONG><code>&#92;S</code></STRONG></DT>\n",
    "<DD>When the <tt class=\"constant\">LOCALE</tt> and <tt class=\"constant\">UNICODE</tt>\n",
    "flags are not specified, matches any non-whitespace character; this is\n",
    "equivalent to the set <tt class=\"regexp\">[^ &#92;t&#92;n&#92;r&#92;f&#92;v]</tt>\n",
    "With <tt class=\"constant\">LOCALE</tt>, it will match any character not in this set,\n",
    "and not defined as space in the current locale. If <tt class=\"constant\">UNICODE</tt>\n",
    "is set, this will match anything other than <tt class=\"regexp\">[ &#92;t&#92;n&#92;r&#92;f&#92;v]</tt>\n",
    "and characters marked as space in the Unicode character properties database.\n",
    "\n",
    "<P>\n",
    "</DD>\n",
    "<DT><STRONG><code>&#92;w</code></STRONG></DT>\n",
    "<DD>When the <tt class=\"constant\">LOCALE</tt> and <tt class=\"constant\">UNICODE</tt>\n",
    "flags are not specified, matches any alphanumeric character and the\n",
    "underscore; this is equivalent to the set\n",
    "<tt class=\"regexp\">[a-zA-Z0-9_]</tt>.  With <tt class=\"constant\">LOCALE</tt>, it will match the set\n",
    "<tt class=\"regexp\">[0-9_]</tt> plus whatever characters are defined as alphanumeric for\n",
    "the current locale.  If <tt class=\"constant\">UNICODE</tt> is set, this will match the\n",
    "characters <tt class=\"regexp\">[0-9_]</tt> plus whatever is classified as alphanumeric\n",
    "in the Unicode character properties database.\n",
    "\n",
    "<P>\n",
    "</DD>\n",
    "<DT><STRONG><code>&#92;W</code></STRONG></DT>\n",
    "<DD>When the <tt class=\"constant\">LOCALE</tt> and <tt class=\"constant\">UNICODE</tt>\n",
    "flags are not specified, matches any non-alphanumeric character; this\n",
    "is equivalent to the set <tt class=\"regexp\">[^a-zA-Z0-9_]</tt>.   With\n",
    "<tt class=\"constant\">LOCALE</tt>, it will match any character not in the set\n",
    "<tt class=\"regexp\">[0-9_]</tt>, and not defined as alphanumeric for the current locale.\n",
    "If <tt class=\"constant\">UNICODE</tt> is set, this will match anything other than\n",
    "<tt class=\"regexp\">[0-9_]</tt> and characters marked as alphanumeric in the Unicode\n",
    "character properties database.\n",
    "\n",
    "<P>\n",
    "</DD>\n",
    "<DT><STRONG><code>&#92;Z</code></STRONG></DT>\n",
    "<DD>Matches only at the end of the string.\n",
    "\n",
    "<P>\n",
    "</DD>\n",
    "</DL>\n",
    "\n",
    "<P>\n",
    "Most of the standard escapes supported by Python string literals are\n",
    "also accepted by the regular expression parser:\n",
    "\n",
    "<P>\n",
    "<div class=\"verbatim\"><pre>\n",
    "\\a      \\b      \\f      \\n\n",
    "\\r      \\t      \\v      \\x\n",
    "\\\\\n",
    "</pre></div>\n",
    "\n",
    "<P>\n",
    "Octal escapes are included in a limited form: If the first digit is a\n",
    "0, or if there are three octal digits, it is considered an octal\n",
    "escape. Otherwise, it is a group reference.  As for string literals,\n",
    "octal escapes are always at most three digits in length.\n",
    "\n",
    "<P>"
   ]
  },
  {
   "cell_type": "markdown",
   "metadata": {},
   "source": [
    "### Using re.search( ) to find particular lines in a txt file"
   ]
  },
  {
   "cell_type": "markdown",
   "metadata": {},
   "source": [
    "Like `find()` we can use `re.search()` to find, and in this case extract, some particular line we are searching."
   ]
  },
  {
   "cell_type": "markdown",
   "metadata": {},
   "source": [
    "Let us have a look of what kind of mailbox file we have here to analyse."
   ]
  },
  {
   "cell_type": "code",
   "execution_count": 3,
   "metadata": {},
   "outputs": [
    {
     "name": "stdout",
     "output_type": "stream",
     "text": [
      "['From stephen.marquard@uct.ac.za Sat Jan  5 09:14:16 2008', 'Return-Path: <postmaster@collab.sakaiproject.org>', 'Received: from murder (mail.umich.edu [141.211.14.90])', 'by frankenstein.mail.umich.edu (Cyrus v2.3.8) with LMTPA;', 'Sat, 05 Jan 2008 09:14:16 -0500', 'X-Sieve: CMU Sieve 2.3', 'Received: from murder ([unix socket])', 'by mail.umich.edu (Cyrus v2.2.12) with LMTPA;', 'Sat, 05 Jan 2008 09:14:16 -0500', 'Received: from holes.mr.itd.umich.edu (holes.mr.itd.umich.edu [141.211.14.79])', 'by flawless.mail.umich.edu () with ESMTP id m05EEFR1013674;', 'Sat, 5 Jan 2008 09:14:15 -0500', 'Received: FROM paploo.uhi.ac.uk (app1.prod.collab.uhi.ac.uk [194.35.219.184])', 'BY holes.mr.itd.umich.edu ID 477F90B0.2DB2F.12494 ;', '5 Jan 2008 09:14:10 -0500', 'Received: from paploo.uhi.ac.uk (localhost [127.0.0.1])', 'by paploo.uhi.ac.uk (Postfix) with ESMTP id 5F919BC2F2;', 'Sat,  5 Jan 2008 14:10:05 +0000 (GMT)', 'Message-ID: <200801051412.m05ECIaH010327@nakamura.uits.iupui.edu>', 'Mime-Version: 1.0', 'Content-Transfer-Encoding: 7bit', 'Received: from prod.collab.uhi.ac.uk ([194.35.219.182])', 'by paploo.uhi.ac.uk (JAMES SMTP Server 2.1.3) with SMTP ID 899', 'for <source@collab.sakaiproject.org>;', 'Sat, 5 Jan 2008 14:09:50 +0000 (GMT)', 'Received: from nakamura.uits.iupui.edu (nakamura.uits.iupui.edu [134.68.220.122])', 'by shmi.uhi.ac.uk (Postfix) with ESMTP id A215243002', 'for <source@collab.sakaiproject.org>; Sat,  5 Jan 2008 14:13:33 +0000 (GMT)', 'Received: from nakamura.uits.iupui.edu (localhost [127.0.0.1])', 'by nakamura.uits.iupui.edu (8.12.11.20060308/8.12.11) with ESMTP id m05ECJVp010329', 'for <source@collab.sakaiproject.org>; Sat, 5 Jan 2008 09:12:19 -0500', 'Received: (from apache@localhost)', 'by nakamura.uits.iupui.edu (8.12.11.20060308/8.12.11/Submit) id m05ECIaH010327', 'for source@collab.sakaiproject.org; Sat, 5 Jan 2008 09:12:18 -0500', 'Date: Sat, 5 Jan 2008 09:12:18 -0500', 'X-Authentication-Warning: nakamura.uits.iupui.edu: apache set sender to stephen.marquard@uct.ac.za using -f', 'To: source@collab.sakaiproject.org', 'From: stephen.marquard@uct.ac.za', 'Subject: [sakai] svn commit: r39772 - content/branches/sakai_2-5-x/content-impl/impl/src/java/org/sakaiproject/content/impl', 'X-Content-Type-Outer-Envelope: text/plain; charset=UTF-8', 'X-Content-Type-Message-Body: text/plain; charset=UTF-8', 'Content-Type: text/plain; charset=UTF-8', 'X-DSPAM-Result: Innocent', 'X-DSPAM-Processed: Sat Jan  5 09:14:16 2008', 'X-DSPAM-Confidence: 0.8475', 'X-DSPAM-Probability: 0.0000', '', 'Details: http://source.sakaiproject.org/viewsvn/?view=rev&rev=39772', '', 'Author: stephen.marquard@uct.ac.za']\n"
     ]
    }
   ],
   "source": [
    "N = 50\n",
    "#using a mailbox txt sample\n",
    "with open('mbox-short.txt') as file:\n",
    "        head = [next(file).strip() for x in range(N)]\n",
    "print(head)"
   ]
  },
  {
   "cell_type": "markdown",
   "metadata": {},
   "source": [
    "We can count how many emails we have in this mailbox file by searching 'From:' in the text."
   ]
  },
  {
   "cell_type": "markdown",
   "metadata": {},
   "source": [
    "I'll use re.compile even it usually it is used on big data text sets, but it is a neater wat to use `regex`."
   ]
  },
  {
   "cell_type": "code",
   "execution_count": 4,
   "metadata": {},
   "outputs": [
    {
     "name": "stdout",
     "output_type": "stream",
     "text": [
      "Number of emails:  27\n"
     ]
    }
   ],
   "source": [
    "import re\n",
    "\n",
    "with open('mbox-short.txt') as file:\n",
    "    regexp = re.compile('From:')\n",
    "    count = 0\n",
    "    for line in file.readlines():\n",
    "        #next I use search() with the previous compiled regexp\n",
    "        if regexp.search(line):\n",
    "            count += 1\n",
    "    print('Number of emails: ', count)"
   ]
  },
  {
   "cell_type": "markdown",
   "metadata": {},
   "source": [
    "We can search more type of words we are interested with `|` \"or\" in the expresion:"
   ]
  },
  {
   "cell_type": "code",
   "execution_count": 5,
   "metadata": {},
   "outputs": [
    {
     "name": "stdout",
     "output_type": "stream",
     "text": [
      "Number 'Hello's inside the emails:  3\n"
     ]
    }
   ],
   "source": [
    "with open('mbox-short.txt') as file:\n",
    "    #we can search for different words with |\n",
    "    #we can choose case sensitive here by [hH]\n",
    "    regexp = re.compile('[hH]ello|Hi|Hey')\n",
    "    count = 0\n",
    "    for line in file.readlines():\n",
    "        #next I use search() with the previous compiled regexp\n",
    "        if regexp.search(line):\n",
    "            count += 1\n",
    "    print(\"Number 'Hello's inside the emails: \", count)"
   ]
  },
  {
   "cell_type": "markdown",
   "metadata": {},
   "source": [
    "`[]` these parenthesis are used to find also ranges of characters or numbers like `[a-z]` or `[0-9]`"
   ]
  },
  {
   "cell_type": "markdown",
   "metadata": {},
   "source": [
    "Another thing we could do here is to look at from whom the emails came from."
   ]
  },
  {
   "cell_type": "code",
   "execution_count": 6,
   "metadata": {},
   "outputs": [
    {
     "name": "stdout",
     "output_type": "stream",
     "text": [
      "From: stephen.marquard@uct.ac.za\n",
      "From: louis@media.berkeley.edu\n",
      "From: zqian@umich.edu\n",
      "From: rjlowe@iupui.edu\n",
      "From: zqian@umich.edu\n",
      "From: rjlowe@iupui.edu\n",
      "From: cwen@iupui.edu\n",
      "From: cwen@iupui.edu\n",
      "From: gsilver@umich.edu\n",
      "From: gsilver@umich.edu\n",
      "From: zqian@umich.edu\n",
      "From: gsilver@umich.edu\n",
      "From: wagnermr@iupui.edu\n",
      "From: zqian@umich.edu\n",
      "From: antranig@caret.cam.ac.uk\n",
      "From: gopal.ramasammycook@gmail.com\n",
      "From: david.horwitz@uct.ac.za\n",
      "From: david.horwitz@uct.ac.za\n",
      "From: david.horwitz@uct.ac.za\n",
      "From: david.horwitz@uct.ac.za\n",
      "From: stephen.marquard@uct.ac.za\n",
      "From: louis@media.berkeley.edu\n",
      "From: louis@media.berkeley.edu\n",
      "From: ray@media.berkeley.edu\n",
      "From: cwen@iupui.edu\n",
      "From: cwen@iupui.edu\n",
      "From: cwen@iupui.edu\n"
     ]
    }
   ],
   "source": [
    "with open('mbox-short.txt') as file:\n",
    "    for line in file:\n",
    "        line = line.strip() #just to remove space between lines\n",
    "        if re.search('From:', line):\n",
    "            print(line)"
   ]
  },
  {
   "cell_type": "markdown",
   "metadata": {},
   "source": [
    "### Using re.search( ) with `^` to find particular lines that starts with something"
   ]
  },
  {
   "cell_type": "markdown",
   "metadata": {},
   "source": [
    "We can fine-tune what is matched by adding special characters to the string:"
   ]
  },
  {
   "cell_type": "code",
   "execution_count": 7,
   "metadata": {},
   "outputs": [
    {
     "name": "stdout",
     "output_type": "stream",
     "text": [
      "From: stephen.marquard@uct.ac.za\n",
      "From: stephen.marquard@uct.ac.za\n"
     ]
    }
   ],
   "source": [
    "with open('mbox-short.txt') as file:\n",
    "    for line in file:\n",
    "        line = line.strip()\n",
    "        if re.search('^From: s', line): #here I use ^ as starts with\n",
    "            print(line)"
   ]
  },
  {
   "cell_type": "markdown",
   "metadata": {},
   "source": [
    "### Wild-Card Characters "
   ]
  },
  {
   "cell_type": "markdown",
   "metadata": {},
   "source": [
    " - The .(dot) character matches any character\n",
    " - If we add the \\*(asterisk) character, the next character can \"any number of charcaters\" distant from the previous"
   ]
  },
  {
   "cell_type": "markdown",
   "metadata": {},
   "source": [
    "For example: ^X-S.\\*: where \"X-S\" is the matching line where we have \":\" after any space of characters."
   ]
  },
  {
   "cell_type": "markdown",
   "metadata": {},
   "source": [
    "\n",
    "It's like we search for a line starting with \"*X-S*\", followed by some number of characters, followed by a colon \"*:*\"."
   ]
  },
  {
   "cell_type": "code",
   "execution_count": 9,
   "metadata": {},
   "outputs": [
    {
     "name": "stdout",
     "output_type": "stream",
     "text": [
      "X-Sieve: CMU Sieve 2.3\n",
      "X-Sieve: CMU Sieve 2.3\n",
      "X-Sieve: CMU Sieve 2.3\n",
      "X-Sieve: CMU Sieve 2.3\n",
      "X-Sieve: CMU Sieve 2.3\n",
      "X-Sieve: CMU Sieve 2.3\n",
      "X-Sieve: CMU Sieve 2.3\n",
      "X-Sieve: CMU Sieve 2.3\n",
      "X-Sieve: CMU Sieve 2.3\n",
      "X-Sieve: CMU Sieve 2.3\n",
      "X-Sieve: CMU Sieve 2.3\n",
      "X-Sieve: CMU Sieve 2.3\n",
      "X-Sieve: CMU Sieve 2.3\n",
      "X-Sieve: CMU Sieve 2.3\n",
      "X-Sieve: CMU Sieve 2.3\n",
      "X-Sieve: CMU Sieve 2.3\n",
      "X-Sieve: CMU Sieve 2.3\n",
      "X-Sieve: CMU Sieve 2.3\n",
      "X-Sieve: CMU Sieve 2.3\n",
      "X-Sieve: CMU Sieve 2.3\n",
      "X-Sieve: CMU Sieve 2.3\n",
      "X-Sieve: CMU Sieve 2.3\n",
      "X-Sieve: CMU Sieve 2.3\n",
      "X-Sieve: CMU Sieve 2.3\n",
      "X-Sieve: CMU Sieve 2.3\n",
      "X-Sieve: CMU Sieve 2.3\n",
      "X-Sieve: CMU Sieve 2.3\n"
     ]
    }
   ],
   "source": [
    "with open('mbox-short.txt') as file:\n",
    "    for line in file:\n",
    "        line = line.strip()\n",
    "        if re.search('^X-S.*:', line):\n",
    "            print(line)"
   ]
  },
  {
   "cell_type": "markdown",
   "metadata": {},
   "source": [
    "Below we can find in a similar way all the emails sent at time 11"
   ]
  },
  {
   "cell_type": "code",
   "execution_count": 10,
   "metadata": {},
   "outputs": [
    {
     "name": "stdout",
     "output_type": "stream",
     "text": [
      "From cwen@iupui.edu Fri Jan  4 11:37:30 2008\n",
      "From cwen@iupui.edu Fri Jan  4 11:35:08 2008\n",
      "From gsilver@umich.edu Fri Jan  4 11:12:37 2008\n",
      "From gsilver@umich.edu Fri Jan  4 11:11:52 2008\n",
      "From zqian@umich.edu Fri Jan  4 11:11:03 2008\n",
      "From gsilver@umich.edu Fri Jan  4 11:10:22 2008\n"
     ]
    }
   ],
   "source": [
    "with open('mbox-short.txt') as file:\n",
    "    for line in file:\n",
    "        line = line.strip()\n",
    "        if re.search('^From.*11', line):\n",
    "            print(line)"
   ]
  },
  {
   "cell_type": "markdown",
   "metadata": {},
   "source": [
    "Depending on how \"clean\" and what data we need to extract, we may want to narrow down the searching."
   ]
  },
  {
   "cell_type": "markdown",
   "metadata": {},
   "source": [
    "For example we can:\n",
    " - Match the starting line with \"^X-\"\n",
    " - Match any non whitespace character with \"\\S\" one or more times \"+\"\n",
    " - and should then have \"Confidence:\" colon\n",
    "\n",
    "\"^X-\\S+Confidence:\""
   ]
  },
  {
   "cell_type": "code",
   "execution_count": 11,
   "metadata": {},
   "outputs": [
    {
     "name": "stdout",
     "output_type": "stream",
     "text": [
      "X-DSPAM-Confidence: 0.8475\n",
      "X-DSPAM-Confidence: 0.6178\n",
      "X-DSPAM-Confidence: 0.6961\n",
      "X-DSPAM-Confidence: 0.7565\n",
      "X-DSPAM-Confidence: 0.7626\n",
      "X-DSPAM-Confidence: 0.7556\n",
      "X-DSPAM-Confidence: 0.7002\n",
      "X-DSPAM-Confidence: 0.7615\n",
      "X-DSPAM-Confidence: 0.7601\n",
      "X-DSPAM-Confidence: 0.7605\n",
      "X-DSPAM-Confidence: 0.6959\n",
      "X-DSPAM-Confidence: 0.7606\n",
      "X-DSPAM-Confidence: 0.7559\n",
      "X-DSPAM-Confidence: 0.7605\n",
      "X-DSPAM-Confidence: 0.6932\n",
      "X-DSPAM-Confidence: 0.7558\n",
      "X-DSPAM-Confidence: 0.6526\n",
      "X-DSPAM-Confidence: 0.6948\n",
      "X-DSPAM-Confidence: 0.6528\n",
      "X-DSPAM-Confidence: 0.7002\n",
      "X-DSPAM-Confidence: 0.7554\n",
      "X-DSPAM-Confidence: 0.6956\n",
      "X-DSPAM-Confidence: 0.6959\n",
      "X-DSPAM-Confidence: 0.7556\n",
      "X-DSPAM-Confidence: 0.9846\n",
      "X-DSPAM-Confidence: 0.8509\n",
      "X-DSPAM-Confidence: 0.9907\n"
     ]
    }
   ],
   "source": [
    "with open('mbox-short.txt') as file:\n",
    "    for line in file:\n",
    "        line = line.strip()\n",
    "        if re.search('^X-D\\S+Confidence:', line):\n",
    "            print(line)"
   ]
  },
  {
   "cell_type": "markdown",
   "metadata": {},
   "source": [
    "### Matching and Extracting data"
   ]
  },
  {
   "cell_type": "markdown",
   "metadata": {},
   "source": [
    "- `re.search()` returns `True` or `False` depending on whether the string matches the regular expression \n",
    "- If we actually need the matching strings to be extracted we use `re.findall()`"
   ]
  },
  {
   "cell_type": "code",
   "execution_count": 12,
   "metadata": {},
   "outputs": [
    {
     "name": "stdout",
     "output_type": "stream",
     "text": [
      "['2', '19', '256']\n",
      "['2', '1', '9', '2', '5', '6']\n"
     ]
    }
   ],
   "source": [
    "x = 'My 2 favourite numbers are 19 and 256'\n",
    "# [] a set of chacarters from 0 to 9 and + to have one or more digits\n",
    "y =  re.findall('[0-9]+', x)\n",
    "print(y)\n",
    "# without + takes all the number characters into a vector\n",
    "z =  re.findall('[0-9]', x)\n",
    "print(z)"
   ]
  },
  {
   "cell_type": "markdown",
   "metadata": {},
   "source": [
    "`re.findall()` gives as back a list of the matches"
   ]
  },
  {
   "cell_type": "code",
   "execution_count": 13,
   "metadata": {},
   "outputs": [
    {
     "name": "stdout",
     "output_type": "stream",
     "text": [
      "['a', 'o', 'u', 'i', 'e', 'u', 'e', 'a', 'e', 'a']\n"
     ]
    }
   ],
   "source": [
    "# finds vowels\n",
    "a = re.findall('[aeiou]', x)\n",
    "print(a)"
   ]
  },
  {
   "cell_type": "markdown",
   "metadata": {},
   "source": [
    "### Warning: Greedy Matching"
   ]
  },
  {
   "cell_type": "markdown",
   "metadata": {},
   "source": [
    "The problem is there is this notion in the matching called Greedy Matching,\n",
    "and unless you say otherwise,\n",
    "the regular expression library attempts to give you\n",
    "the largest possible version of the string that you're matching."
   ]
  },
  {
   "cell_type": "markdown",
   "metadata": {},
   "source": [
    "The *repeat* characters (`*` and `+`) push ***outward*** in both directions (greedy) to match the largest possible total string, until it finds the last character:"
   ]
  },
  {
   "cell_type": "code",
   "execution_count": 14,
   "metadata": {},
   "outputs": [
    {
     "name": "stdout",
     "output_type": "stream",
     "text": [
      "['From: peter.noland@info.io :']\n"
     ]
    }
   ],
   "source": [
    "x = \"From: peter.noland@info.io : 'hello' and\"\n",
    "# we would like to get only \"From:\"\n",
    "y = re.findall('^F.+:', x)\n",
    "print(y)"
   ]
  },
  {
   "cell_type": "markdown",
   "metadata": {},
   "source": [
    "It is not only \"From:\" as expected. Because it finds another \":\" where to stop."
   ]
  },
  {
   "cell_type": "markdown",
   "metadata": {},
   "source": [
    "If we add `?` the search becomes `non-greedy`:"
   ]
  },
  {
   "cell_type": "code",
   "execution_count": 15,
   "metadata": {},
   "outputs": [
    {
     "name": "stdout",
     "output_type": "stream",
     "text": [
      "['From:']\n"
     ]
    }
   ],
   "source": [
    "print(re.findall('^F.+?:', x))"
   ]
  },
  {
   "cell_type": "markdown",
   "metadata": {},
   "source": [
    "### Fine Tuning String Extraction"
   ]
  },
  {
   "cell_type": "markdown",
   "metadata": {},
   "source": [
    "We can refine the match for `re.findall()` and separatly determine which portion of the match is to be extracted:"
   ]
  },
  {
   "cell_type": "code",
   "execution_count": 16,
   "metadata": {},
   "outputs": [
    {
     "name": "stdout",
     "output_type": "stream",
     "text": [
      "['stephen.marquard@uct.ac.za']\n",
      "['louis@media.berkeley.edu']\n",
      "['zqian@umich.edu']\n",
      "['rjlowe@iupui.edu']\n",
      "['zqian@umich.edu']\n",
      "['rjlowe@iupui.edu']\n",
      "['cwen@iupui.edu']\n",
      "['cwen@iupui.edu']\n",
      "['gsilver@umich.edu']\n",
      "['gsilver@umich.edu']\n",
      "['zqian@umich.edu']\n",
      "['gsilver@umich.edu']\n",
      "['wagnermr@iupui.edu']\n",
      "['zqian@umich.edu']\n",
      "['antranig@caret.cam.ac.uk']\n",
      "['gopal.ramasammycook@gmail.com']\n",
      "['david.horwitz@uct.ac.za']\n",
      "['david.horwitz@uct.ac.za']\n",
      "['david.horwitz@uct.ac.za']\n",
      "['david.horwitz@uct.ac.za']\n",
      "['stephen.marquard@uct.ac.za']\n",
      "['louis@media.berkeley.edu']\n",
      "['louis@media.berkeley.edu']\n",
      "['ray@media.berkeley.edu']\n",
      "['cwen@iupui.edu']\n",
      "['cwen@iupui.edu']\n",
      "['cwen@iupui.edu']\n"
     ]
    }
   ],
   "source": [
    "# extracting all emails from the mailbox txt file\n",
    "with open('mbox-short.txt') as file:\n",
    "    for line in file:\n",
    "        line = line.strip() \n",
    "        if re.search('From:', line):\n",
    "            #\\S+ space before @ and \\S+ space after\n",
    "            print(re.findall('\\S+@\\S+', line))"
   ]
  },
  {
   "cell_type": "markdown",
   "metadata": {},
   "source": [
    "There are a lot of duplicates here, let's see if we can clean up a bit:"
   ]
  },
  {
   "cell_type": "code",
   "execution_count": 17,
   "metadata": {},
   "outputs": [
    {
     "data": {
      "text/plain": [
       "['wagnermr@iupui.edu',\n",
       " 'zqian@umich.edu',\n",
       " 'gopal.ramasammycook@gmail.com',\n",
       " 'cwen@iupui.edu',\n",
       " 'stephen.marquard@uct.ac.za',\n",
       " 'david.horwitz@uct.ac.za',\n",
       " 'antranig@caret.cam.ac.uk',\n",
       " 'louis@media.berkeley.edu',\n",
       " 'ray@media.berkeley.edu',\n",
       " 'gsilver@umich.edu',\n",
       " 'rjlowe@iupui.edu']"
      ]
     },
     "execution_count": 17,
     "metadata": {},
     "output_type": "execute_result"
    }
   ],
   "source": [
    "# extracting all emails from the mailbox txt file\n",
    "# removing all duplicates\n",
    "with open('mbox-short.txt') as file:\n",
    "    emails = ()\n",
    "    for line in file:\n",
    "        line = line.strip() \n",
    "        if re.search('From:', line):\n",
    "            emails += tuple(re.findall('\\S+@\\S+', line))\n",
    "\n",
    "# using set to create a unique set of emails\n",
    "# and convert to list\n",
    "emails = list(set(emails))\n",
    "emails"
   ]
  },
  {
   "cell_type": "markdown",
   "metadata": {},
   "source": [
    "#### Retriving the host names:\n",
    "\n",
    " - `@` start from this\n",
    " - `()` matches what is inside\n",
    " - `[^ ]` matches a non-blank space. Single non-blank chacarter\n",
    " - `*` match many of them. Zero or more times"
   ]
  },
  {
   "cell_type": "code",
   "execution_count": 18,
   "metadata": {},
   "outputs": [
    {
     "data": {
      "text/plain": [
       "[('iupui.edu',),\n",
       " ('umich.edu',),\n",
       " ('gmail.com',),\n",
       " ('uct.ac.za',),\n",
       " ('caret.cam.ac.uk',),\n",
       " ('media.berkeley.edu',)]"
      ]
     },
     "execution_count": 18,
     "metadata": {},
     "output_type": "execute_result"
    }
   ],
   "source": [
    "# retriving the unique hosts\n",
    "hosts = [tuple(re.findall('@([^ ]*)', i)) for i in emails]\n",
    "hosts = list(set(hosts))\n",
    "hosts"
   ]
  },
  {
   "cell_type": "markdown",
   "metadata": {},
   "source": [
    "### Escape Character"
   ]
  },
  {
   "cell_type": "markdown",
   "metadata": {},
   "source": [
    "If we need to have a special character to just behave \"normally\" we can use the prefix `\\`"
   ]
  },
  {
   "cell_type": "code",
   "execution_count": 19,
   "metadata": {},
   "outputs": [
    {
     "name": "stdout",
     "output_type": "stream",
     "text": [
      "without dot(.) after [0-9]\n",
      " ['$10']\n",
      "with dot(.) after [0-9]\n",
      " ['$10.00']\n"
     ]
    }
   ],
   "source": [
    "x = \"We just received $10.00 for that thing done.\"\n",
    "y = re.findall('\\$[0-9]+', x) #without dot(.) after [0-9]\n",
    "print('without dot(.) after [0-9]\\n', y)\n",
    "y = re.findall('\\$[0-9.]+', x) #with dot(.) after [0-9]\n",
    "print('with dot(.) after [0-9]\\n', y)"
   ]
  },
  {
   "cell_type": "markdown",
   "metadata": {},
   "source": [
    "### Spam Confidence Analysis"
   ]
  },
  {
   "cell_type": "markdown",
   "metadata": {},
   "source": [
    "Let's now make an analysis for spam confidence of the mailbox file with the use of regular expressions:"
   ]
  },
  {
   "cell_type": "code",
   "execution_count": 20,
   "metadata": {},
   "outputs": [
    {
     "name": "stdout",
     "output_type": "stream",
     "text": [
      "Maximum DSPAM-Confidence of mailbox:  0.9907\n",
      "Minimum DSPAM-Confidence of mailbox:  0.6178\n",
      "The mean of total mailbox DSPAM-Confidence:  0.7507185185185186\n",
      "The Standard Deviation of total mailbox DSPAM-Confidence:  0.08614348958407013\n"
     ]
    }
   ],
   "source": [
    "import statistics\n",
    "\n",
    "with open('mbox-short.txt') as file:\n",
    "    elist = []\n",
    "    # I compile regex with ([0-9.]+) that retrives numbers (and .floating) on DSPAM lines\n",
    "    regexp = re.compile('X-DSPAM-Confidence: ([0-9.]+)')\n",
    "    for line in file.readlines():\n",
    "        stuff = regexp.findall(line)\n",
    "        if len(stuff) != 1: continue\n",
    "        num = float(stuff[0])\n",
    "        elist.append(num)\n",
    "    print('Maximum DSPAM-Confidence of mailbox: ', max(elist))\n",
    "    print('Minimum DSPAM-Confidence of mailbox: ', min(elist))\n",
    "    print('The mean of total mailbox DSPAM-Confidence: ', statistics.mean(elist))\n",
    "    print('The Standard Deviation of total mailbox DSPAM-Confidence: ', statistics.stdev(elist))"
   ]
  },
  {
   "cell_type": "code",
   "execution_count": 23,
   "metadata": {},
   "outputs": [
    {
     "data": {
      "image/png": "[encoded data removed]",
      "text/plain": [
       "<Figure size 432x288 with 1 Axes>"
      ]
     },
     "metadata": {
      "needs_background": "light"
     },
     "output_type": "display_data"
    }
   ],
   "source": [
    "import matplotlib.pyplot as plt\n",
    "plt.plot(elist)\n",
    "plt.ylabel('DSPAM-Confidence values')\n",
    "plt.show()"
   ]
  },
  {
   "cell_type": "code",
   "execution_count": null,
   "metadata": {},
   "outputs": [],
   "source": []
  }
 ],
 "metadata": {
  "kernelspec": {
   "display_name": "Python 3",
   "language": "python",
   "name": "python3"
  },
  "language_info": {
   "codemirror_mode": {
    "name": "ipython",
    "version": 3
   },
   "file_extension": ".py",
   "mimetype": "text/x-python",
   "name": "python",
   "nbconvert_exporter": "python",
   "pygments_lexer": "ipython3",
   "version": "3.7.4"
  }
 },
 "nbformat": 4,
 "nbformat_minor": 4
}
